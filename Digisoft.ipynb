{
 "cells": [
  {
   "cell_type": "code",
   "execution_count": 124,
   "metadata": {},
   "outputs": [],
   "source": [
    "import os\n",
    "import pydicom\n",
    "from pydicom.data import get_testdata_files\n",
    "from pydicom import tag\n",
    "import matplotlib.pyplot as plt\n",
    "import numpy as np"
   ]
  },
  {
   "cell_type": "code",
   "execution_count": 125,
   "metadata": {},
   "outputs": [
    {
     "data": {
      "text/plain": [
       "(0008, 0005) Specific Character Set              CS: 'ISO_IR 100'\n",
       "(0008, 0008) Image Type                          CS: ['', 'SECONDARY', 'INTRAOPERATIVE']\n",
       "(0008, 0016) SOP Class UID                       UI: Ultrasound Multi-frame Image Storage\n",
       "(0008, 0018) SOP Instance UID                    UI: 2.16.840.1.114488.0.4.123489834087.1330071425.2\n",
       "(0008, 0020) Study Date                          DA: '20110824'\n",
       "(0008, 0021) Series Date                         DA: '20110824'\n",
       "(0008, 0023) Content Date                        DA: '20110824'\n",
       "(0008, 0030) Study Time                          TM: '094836.214743984'\n",
       "(0008, 0031) Series Time                         TM: '094836.214743984'\n",
       "(0008, 0033) Content Time                        TM: '100451.214743816'\n",
       "(0008, 0050) Accession Number                    SH: ''\n",
       "(0008, 0060) Modality                            CS: 'US'\n",
       "(0008, 0070) Manufacturer                        LO: 'Medistim'\n",
       "(0008, 0080) Institution Name                    LO: 'Hospital Name'\n",
       "(0008, 0081) Institution Address                 ST: 'Hospital Address or Department'\n",
       "(0008, 0090) Referring Physician's Name          PN: ''\n",
       "(0008, 1010) Station Name                        SH: 'VERIQ'\n",
       "(0008, 1030) Study Description                   LO: ''\n",
       "(0008, 1050) Performing Physician's Name         PN: 'CA Prof. Debus'\n",
       "(0008, 1090) Manufacturer's Model Name           LO: 'VeriQ C'\n",
       "(0008, 2144) Recommended Display Frame Rate      IS: \"1\"\n",
       "(0010, 0010) Patient's Name                      PN: 'Femoral trombenarterectomy^Case Report:'\n",
       "(0010, 0020) Patient ID                          LO: 'Case Report 1'\n",
       "(0010, 0030) Patient's Birth Date                DA: ''\n",
       "(0010, 0040) Patient's Sex                       CS: 'M'\n",
       "(0010, 1020) Patient's Size                      DS: \"0\"\n",
       "(0010, 1030) Patient's Weight                    DS: \"0\"\n",
       "(0010, 4000) Patient Comments                    LT: 'See case report on www.medistim.com'\n",
       "(0018, 0040) Cine Rate                           IS: \"1\"\n",
       "(0018, 0072) Effective Duration                  DS: \"1\"\n",
       "(0018, 1000) Device Serial Number                LO: '0'\n",
       "(0018, 1020) Software Version(s)                 LO: '3.3.0 RC0 built 02/23/12  09:50:45'\n",
       "(0018, 1063) Frame Time                          DS: \"1000\"\n",
       "(0018, 1244) Preferred Playback Sequencing       US: 0\n",
       "(0018, 6011)  Sequence of Ultrasound Regions   1 item(s) ---- \n",
       "   (0018, 6012) Region Spatial Format               US: 4\n",
       "   (0018, 6014) Region Data Type                    US: 18\n",
       "   (0018, 6016) Region Flags                        UL: 2\n",
       "   (0018, 6018) Region Location Min X0              UL: 86\n",
       "   (0018, 601a) Region Location Min Y0              UL: 5\n",
       "   (0018, 601c) Region Location Max X1              UL: 976\n",
       "   (0018, 601e) Region Location Max Y1              UL: 506\n",
       "   (0018, 6020) Reference Pixel X0                  SL: 86\n",
       "   (0018, 6022) Reference Pixel Y0                  SL: 422\n",
       "   (0018, 6024) Physical Units X Direction          US: 4\n",
       "   (0018, 6026) Physical Units Y Direction          US: 0\n",
       "   (0018, 6028) Reference Pixel Physical Value X    FD: 0.0\n",
       "   (0018, 602a) Reference Pixel Physical Value Y    FD: 0.0\n",
       "   (0018, 602c) Physical Delta X                    FD: 0.0056179775280898875\n",
       "   (0018, 602e) Physical Delta Y                    FD: -0.0002994011983483613\n",
       "   ---------\n",
       "(0020, 000d) Study Instance UID                  UI: 2.16.840.1.114488.0.4.123489834087.1330071425.0\n",
       "(0020, 000e) Series Instance UID                 UI: 2.16.840.1.114488.0.4.123489834087.1330071425.1\n",
       "(0020, 0010) Study ID                            SH: ''\n",
       "(0020, 0011) Series Number                       IS: \"1\"\n",
       "(0020, 0013) Instance Number                     IS: \"1\"\n",
       "(0020, 0020) Patient Orientation                 CS: ''\n",
       "(0020, 0060) Laterality                          CS: ''\n",
       "(0020, 4000) Image Comments                      LT: ''\n",
       "(0028, 0002) Samples per Pixel                   US: 3\n",
       "(0028, 0004) Photometric Interpretation          CS: 'RGB'\n",
       "(0028, 0006) Planar Configuration                US: 0\n",
       "(0028, 0008) Number of Frames                    IS: \" 1\"\n",
       "(0028, 0009) Frame Increment Pointer             AT: (0018, 1063)\n",
       "(0028, 0010) Rows                                US: 768\n",
       "(0028, 0011) Columns                             US: 1024\n",
       "(0028, 0100) Bits Allocated                      US: 8\n",
       "(0028, 0101) Bits Stored                         US: 8\n",
       "(0028, 0102) High Bit                            US: 7\n",
       "(0028, 0103) Pixel Representation                US: 0\n",
       "(0028, 2110) Lossy Image Compression             CS: '00'\n",
       "(7fe0, 0010) Pixel Data                          OW: Array of 347434 bytes"
      ]
     },
     "execution_count": 125,
     "metadata": {},
     "output_type": "execute_result"
    }
   ],
   "source": [
    "file = pydicom.read_file('ttfm.dcm')\n",
    "file"
   ]
  },
  {
   "cell_type": "code",
   "execution_count": 126,
   "metadata": {},
   "outputs": [],
   "source": [
    "final_list = []\n",
    "for item in file:\n",
    "    final_list.append(str(item)[0:12])"
   ]
  },
  {
   "cell_type": "code",
   "execution_count": 129,
   "metadata": {},
   "outputs": [],
   "source": [
    "for name in file.dir():\n",
    "    if type(eval('file'+'.'+name)) is pydicom.sequence.Sequence:\n",
    "        for index in eval('file'+'.'+name+'[:][0]'):\n",
    "            final_list.append(str(index)[0:12])"
   ]
  },
  {
   "cell_type": "code",
   "execution_count": 131,
   "metadata": {},
   "outputs": [
    {
     "data": {
      "text/plain": [
       "['(0008, 0005)',\n",
       " '(0008, 0008)',\n",
       " '(0008, 0016)',\n",
       " '(0008, 0018)',\n",
       " '(0008, 0020)',\n",
       " '(0008, 0021)',\n",
       " '(0008, 0023)',\n",
       " '(0008, 0030)',\n",
       " '(0008, 0031)',\n",
       " '(0008, 0033)',\n",
       " '(0008, 0050)',\n",
       " '(0008, 0060)',\n",
       " '(0008, 0070)',\n",
       " '(0008, 0080)',\n",
       " '(0008, 0081)',\n",
       " '(0008, 0090)',\n",
       " '(0008, 1010)',\n",
       " '(0008, 1030)',\n",
       " '(0008, 1050)',\n",
       " '(0008, 1090)',\n",
       " '(0008, 2144)',\n",
       " '(0010, 0010)',\n",
       " '(0010, 0020)',\n",
       " '(0010, 0030)',\n",
       " '(0010, 0040)',\n",
       " '(0010, 1020)',\n",
       " '(0010, 1030)',\n",
       " '(0010, 4000)',\n",
       " '(0018, 0040)',\n",
       " '(0018, 0072)',\n",
       " '(0018, 1000)',\n",
       " '(0018, 1020)',\n",
       " '(0018, 1063)',\n",
       " '(0018, 1244)',\n",
       " '(0018, 6011)',\n",
       " '(0020, 000d)',\n",
       " '(0020, 000e)',\n",
       " '(0020, 0010)',\n",
       " '(0020, 0011)',\n",
       " '(0020, 0013)',\n",
       " '(0020, 0020)',\n",
       " '(0020, 0060)',\n",
       " '(0020, 4000)',\n",
       " '(0028, 0002)',\n",
       " '(0028, 0004)',\n",
       " '(0028, 0006)',\n",
       " '(0028, 0008)',\n",
       " '(0028, 0009)',\n",
       " '(0028, 0010)',\n",
       " '(0028, 0011)',\n",
       " '(0028, 0100)',\n",
       " '(0028, 0101)',\n",
       " '(0028, 0102)',\n",
       " '(0028, 0103)',\n",
       " '(0028, 2110)',\n",
       " '(7fe0, 0010)',\n",
       " '(0018, 6012)',\n",
       " '(0018, 6014)',\n",
       " '(0018, 6016)',\n",
       " '(0018, 6018)',\n",
       " '(0018, 601a)',\n",
       " '(0018, 601c)',\n",
       " '(0018, 601e)',\n",
       " '(0018, 6020)',\n",
       " '(0018, 6022)',\n",
       " '(0018, 6024)',\n",
       " '(0018, 6026)',\n",
       " '(0018, 6028)',\n",
       " '(0018, 602a)',\n",
       " '(0018, 602c)',\n",
       " '(0018, 602e)']"
      ]
     },
     "execution_count": 131,
     "metadata": {},
     "output_type": "execute_result"
    }
   ],
   "source": [
    "final_list"
   ]
  },
  {
   "cell_type": "code",
   "execution_count": 137,
   "metadata": {},
   "outputs": [],
   "source": [
    "final_list = np.sort(final_list)"
   ]
  },
  {
   "cell_type": "code",
   "execution_count": 139,
   "metadata": {},
   "outputs": [],
   "source": [
    "outF = open(\"Output1.txt\",\"w\")\n",
    "for i in range(len(final_list)):\n",
    "    outF.write(final_list[i])\n",
    "    outF.write(\"\\n\")\n",
    "outF.close()"
   ]
  },
  {
   "cell_type": "code",
   "execution_count": null,
   "metadata": {},
   "outputs": [],
   "source": []
  }
 ],
 "metadata": {
  "kernelspec": {
   "display_name": "Python 3",
   "language": "python",
   "name": "python3"
  },
  "language_info": {
   "codemirror_mode": {
    "name": "ipython",
    "version": 3
   },
   "file_extension": ".py",
   "mimetype": "text/x-python",
   "name": "python",
   "nbconvert_exporter": "python",
   "pygments_lexer": "ipython3",
   "version": "3.6.5"
  }
 },
 "nbformat": 4,
 "nbformat_minor": 2
}
