{
 "cells": [
  {
   "cell_type": "code",
   "execution_count": 196,
   "metadata": {},
   "outputs": [],
   "source": [
    "import os\n",
    "import pydicom\n",
    "from pydicom.data import get_testdata_files\n",
    "from pydicom import tag\n",
    "import matplotlib.pyplot as plt\n",
    "import numpy as np"
   ]
  },
  {
   "cell_type": "code",
   "execution_count": 197,
   "metadata": {},
   "outputs": [],
   "source": [
    "file = pydicom.read_file('ttfm.dcm')\n",
    "file_name = 'ttfm'"
   ]
  },
  {
   "cell_type": "code",
   "execution_count": 198,
   "metadata": {},
   "outputs": [],
   "source": [
    "final_list = []\n",
    "final_name = []\n",
    "final_value = []\n",
    "for item in file.keys():\n",
    "    final_list.append(item)\n",
    "    final_name.append(file[item].name)\n",
    "    final_value.append(file[item].value)"
   ]
  },
  {
   "cell_type": "code",
   "execution_count": 199,
   "metadata": {},
   "outputs": [
    {
     "data": {
      "text/plain": [
       "['Specific Character Set',\n",
       " 'Image Type',\n",
       " 'SOP Class UID',\n",
       " 'SOP Instance UID',\n",
       " 'Study Date',\n",
       " 'Series Date',\n",
       " 'Content Date',\n",
       " 'Study Time',\n",
       " 'Series Time',\n",
       " 'Content Time',\n",
       " 'Accession Number',\n",
       " 'Modality',\n",
       " 'Manufacturer',\n",
       " 'Institution Name',\n",
       " 'Institution Address',\n",
       " \"Referring Physician's Name\",\n",
       " 'Station Name',\n",
       " 'Study Description',\n",
       " \"Performing Physician's Name\",\n",
       " \"Manufacturer's Model Name\",\n",
       " 'Recommended Display Frame Rate',\n",
       " \"Patient's Name\",\n",
       " 'Patient ID',\n",
       " \"Patient's Birth Date\",\n",
       " \"Patient's Sex\",\n",
       " \"Patient's Size\",\n",
       " \"Patient's Weight\",\n",
       " 'Patient Comments',\n",
       " 'Cine Rate',\n",
       " 'Effective Duration',\n",
       " 'Device Serial Number',\n",
       " 'Software Version(s)',\n",
       " 'Frame Time',\n",
       " 'Preferred Playback Sequencing',\n",
       " 'Sequence of Ultrasound Regions',\n",
       " 'Study Instance UID',\n",
       " 'Series Instance UID',\n",
       " 'Study ID',\n",
       " 'Series Number',\n",
       " 'Instance Number',\n",
       " 'Patient Orientation',\n",
       " 'Laterality',\n",
       " 'Image Comments',\n",
       " 'Samples per Pixel',\n",
       " 'Photometric Interpretation',\n",
       " 'Planar Configuration',\n",
       " 'Number of Frames',\n",
       " 'Frame Increment Pointer',\n",
       " 'Rows',\n",
       " 'Columns',\n",
       " 'Bits Allocated',\n",
       " 'Bits Stored',\n",
       " 'High Bit',\n",
       " 'Pixel Representation',\n",
       " 'Lossy Image Compression',\n",
       " 'Pixel Data']"
      ]
     },
     "execution_count": 199,
     "metadata": {},
     "output_type": "execute_result"
    }
   ],
   "source": [
    "final_name"
   ]
  },
  {
   "cell_type": "code",
   "execution_count": 200,
   "metadata": {},
   "outputs": [
    {
     "data": {
      "text/plain": [
       "dict_keys([(0008, 0005), (0008, 0008), (0008, 0016), (0008, 0018), (0008, 0020), (0008, 0021), (0008, 0023), (0008, 0030), (0008, 0031), (0008, 0033), (0008, 0050), (0008, 0060), (0008, 0070), (0008, 0080), (0008, 0081), (0008, 0090), (0008, 1010), (0008, 1030), (0008, 1050), (0008, 1090), (0008, 2144), (0010, 0010), (0010, 0020), (0010, 0030), (0010, 0040), (0010, 1020), (0010, 1030), (0010, 4000), (0018, 0040), (0018, 0072), (0018, 1000), (0018, 1020), (0018, 1063), (0018, 1244), (0018, 6011), (0020, 000d), (0020, 000e), (0020, 0010), (0020, 0011), (0020, 0013), (0020, 0020), (0020, 0060), (0020, 4000), (0028, 0002), (0028, 0004), (0028, 0006), (0028, 0008), (0028, 0009), (0028, 0010), (0028, 0011), (0028, 0100), (0028, 0101), (0028, 0102), (0028, 0103), (0028, 2110), (7fe0, 0010)])"
      ]
     },
     "execution_count": 200,
     "metadata": {},
     "output_type": "execute_result"
    }
   ],
   "source": [
    "file.keys()"
   ]
  },
  {
   "cell_type": "code",
   "execution_count": 202,
   "metadata": {},
   "outputs": [],
   "source": [
    "outF = open(\"Output \"+file_name+\".txt\",\"w\")\n",
    "for i in range(len(final_list)):\n",
    "    outF.write(str(final_list[i]))\n",
    "    outF.write(\"\\t\")\n",
    "    outF.write(final_name[i])\n",
    "    outF.write(\"\\t\")\n",
    "    outF.write(str(final_value[i]))\n",
    "    outF.write(\"\\n\")\n",
    "outF.close()"
   ]
  },
  {
   "cell_type": "code",
   "execution_count": null,
   "metadata": {},
   "outputs": [],
   "source": []
  },
  {
   "cell_type": "code",
   "execution_count": null,
   "metadata": {},
   "outputs": [],
   "source": []
  }
 ],
 "metadata": {
  "kernelspec": {
   "display_name": "Python 3",
   "language": "python",
   "name": "python3"
  },
  "language_info": {
   "codemirror_mode": {
    "name": "ipython",
    "version": 3
   },
   "file_extension": ".py",
   "mimetype": "text/x-python",
   "name": "python",
   "nbconvert_exporter": "python",
   "pygments_lexer": "ipython3",
   "version": "3.6.5"
  }
 },
 "nbformat": 4,
 "nbformat_minor": 2
}
